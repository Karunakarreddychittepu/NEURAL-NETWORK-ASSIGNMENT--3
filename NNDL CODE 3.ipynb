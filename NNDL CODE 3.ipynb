{
 "cells": [
  {
   "cell_type": "code",
   "execution_count": 8,
   "metadata": {
    "colab": {
     "base_uri": "https://localhost:8080/"
    },
    "id": "f0yJzxzfliU3",
    "outputId": "8aabbbf2-8117-447a-c421-75da7dddc2f5"
   },
   "outputs": [
    {
     "name": "stdout",
     "output_type": "stream",
     "text": [
      "Average Salary: 62000.0\n",
      "Total Number of Employees: 5\n"
     ]
    }
   ],
   "source": [
    "class Employee:\n",
    "    num_employees = 0\n",
    "\n",
    "    def __init__(self, name, family, salary, department):\n",
    "        self.name = name\n",
    "        self.family = family\n",
    "        self.salary = salary\n",
    "        self.department = department\n",
    "        Employee.num_employees += 1\n",
    "\n",
    "    @staticmethod\n",
    "    def average_salary(employees):\n",
    "        total_salary = sum(emp.salary for emp in employees)\n",
    "        return total_salary / len(employees) if employees else 0\n",
    "\n",
    "class FulltimeEmployee(Employee):\n",
    "    def __init__(self, name, family, salary, department, benefits):\n",
    "        super().__init__(name, family, salary, department)\n",
    "        self.benefits = benefits\n",
    "\n",
    "# Creating instances of Employee class\n",
    "employees = [\n",
    "    Employee(\"John Doe\", \"Family A\", 50000, \"HR\"),\n",
    "    Employee(\"Jane Smith\", \"Family B\", 60000, \"IT\"),\n",
    "    Employee(\"Michael Johnson\", \"Family C\", 55000, \"Finance\")\n",
    "]\n",
    "\n",
    "# Creating instances of FulltimeEmployee class\n",
    "fulltime_employees = [\n",
    "    FulltimeEmployee(\"Alice Williams\", \"Family D\", 70000, \"Marketing\", \"Healthcare\"),\n",
    "    FulltimeEmployee(\"Robert Brown\", \"Family E\", 75000, \"Engineering\", \"Retirement plan\")\n",
    "]\n",
    "\n",
    "# Calling member functions\n",
    "all_employees = employees + fulltime_employees\n",
    "avg_salary = Employee.average_salary(all_employees)\n",
    "print(\"Average Salary:\", avg_salary)\n",
    "\n",
    "print(\"Total Number of Employees:\", Employee.num_employees)\n"
   ]
  },
  {
   "cell_type": "code",
   "execution_count": 9,
   "metadata": {
    "colab": {
     "base_uri": "https://localhost:8080/"
    },
    "id": "uS7Gb03Vl2UQ",
    "outputId": "bf5bb296-5226-4a25-e5e4-06c8d83ec540"
   },
   "outputs": [
    {
     "name": "stdout",
     "output_type": "stream",
     "text": [
      "Original random vector:\n",
      "[14.32824285  5.00441458  2.36507787 10.99909011  0.         15.9689547\n",
      " 16.12036993 16.51559789  0.          3.00194166 14.09089285  9.33881775\n",
      "  0.          8.11863376 16.03492258  6.55390152  0.          8.49964776\n",
      " 18.77816863 15.69011743]\n",
      "\n",
      "Reshaped array:\n",
      "[[14.32824285  5.00441458  2.36507787 10.99909011  0.        ]\n",
      " [15.9689547  16.12036993 16.51559789  0.          3.00194166]\n",
      " [14.09089285  9.33881775  0.          8.11863376 16.03492258]\n",
      " [ 6.55390152  0.          8.49964776 18.77816863 15.69011743]]\n"
     ]
    }
   ],
   "source": [
    "import numpy as np\n",
    "\n",
    "# Create a random vector of size 20 with floats in the range 1-20\n",
    "random_vector = np.random.uniform(1, 20, 20)\n",
    "\n",
    "# Reshape the vector into a 4x5 array\n",
    "reshaped_array = random_vector.reshape(4, 5)\n",
    "\n",
    "# Find the indices of the maximum value in each row\n",
    "max_indices = np.argmax(reshaped_array, axis=1)\n",
    "\n",
    "# Replace the maximum value in each row with 0\n",
    "for row_idx, col_idx in enumerate(max_indices):\n",
    "    reshaped_array[row_idx, col_idx] = 0\n",
    "\n",
    "print(\"Original random vector:\")\n",
    "print(random_vector)\n",
    "print(\"\\nReshaped array:\")\n",
    "print(reshaped_array)"
   ]
  }
 ],
 "metadata": {
  "colab": {
   "provenance": []
  },
  "kernelspec": {
   "display_name": "Python 3 (ipykernel)",
   "language": "python",
   "name": "python3"
  },
  "language_info": {
   "codemirror_mode": {
    "name": "ipython",
    "version": 3
   },
   "file_extension": ".py",
   "mimetype": "text/x-python",
   "name": "python",
   "nbconvert_exporter": "python",
   "pygments_lexer": "ipython3",
   "version": "3.11.4"
  }
 },
 "nbformat": 4,
 "nbformat_minor": 1
}
